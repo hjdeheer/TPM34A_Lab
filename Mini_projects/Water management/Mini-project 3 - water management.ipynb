{
 "cells": [
  {
   "cell_type": "markdown",
   "id": "e32e6a8d",
   "metadata": {
    "pycharm": {
     "name": "#%% md\n"
    }
   },
   "source": [
    "# TPM034A Machine Learning for socio-technical systems \n",
    "## `Mini-project #3: Water Basin Management`\n",
    "\n",
    "**Delft University of Technology**<br>\n",
    "**Q2 2022**<br>\n",
    "**Module manager:** Dr. Sander van Cranenburgh <br>\n",
    "**Instructors:** Dr. Sander van Cranenburgh, Dr. Nadia Metoui, Dr. Amir Pooyan Afghari <br>\n",
    "**TAs:**  Francisco Garrido Valenzuela & Lucas Spierenburg <br>"
   ]
  },
  {
   "cell_type": "markdown",
   "id": "5f634f93",
   "metadata": {
    "pycharm": {
     "name": "#%% md\n"
    }
   },
   "source": [
    "## `Learning objectives:`\n",
    "This mini-project addresses LO3, LO4, LO5 and LO6 in the course.\n",
    "\n",
    "After the course, students can:\n",
    "1.\texplain fundamental concepts of machine learning (ML).\n",
    "2.\tconceptually explain the workings of a selected number of ML models and eXplainable AI (XAI) techniques, and apply these to empirical data.\n",
    "3.\t**identify applications of ML and XAI techniques in real-world socio-technical systems.**\n",
    "4.\t**examine the impact of ML-based solutions and interventions on individuals, organisations, and society through XAI.**\n",
    "5.\t**conduct an in-depth analysis of a real-world socio-technical challenge, by applying ML and XAI to empirical data.**\n",
    "6.\t**reflect on the strengths and limitations of ML and XAI in real-world socio-technical systems.**"
   ]
  },
  {
   "cell_type": "markdown",
   "source": [
    "## `Project description` <br>\n",
    "\n",
    "### **Introduction**\n",
    "\n",
    "The goal of this project is to use and contrast machine learning techniques for decision support.  Particularly by finding the tradeoffs and vulnerabilities of a complex multi-actor system under conflicting goals and uncertainty.\n",
    "\n",
    "**Nile River Basin context:**\n",
    "\n",
    "The Nile is the largest river in northeast Africa spreading over 10 countries.  The Nile’s basin supplies riparian countries with water for hydropower generation, municipal, industrial and agricultural consumption, with more than a dozen reservoirs scattered in Egypt, Sudan and Ethiopia.  The rights over the water resources in the Nile have been contested for years.  Egypt, the most downstream country with respect to its riparian position, has historically drawn the largest benefits from the Nile water resources.   However, Egypt’s claimed historical right over the Nile’s resources has been challenged by Ethiopia with the unilateral decision to build the Grand Ethiopian Renaissance Dam (GERD) in 2011, intensifying political tensions in the eastern part of the Nile Basin.  Ethiopia’s ambition with the GERD is to exploit unfulfilled hydro-power potential of Ethiopian highlands and contribute to poverty alleviation, and claim that completely blocking the flow of water will be of no interest to them.  Nonetheless, downstream countries, Sudan and Egypt, view the project as a threat to their water security and independence.  Further, the Nile system is vulnerable to hydroclimatic extremes, such as droughts and floods, as well as demographic challenges produced by a fast-developing economy, political instability and armed conflicts.\n",
    "\n",
    "*Your role is to provide decision support in the Blue Nile Basin* by finding the water allocation policy of the newly built GERD, that are able to balance conflicting interests and water uses between the involved parties, i.e. across Sudan, Ethiopia and Egypt.  Further, you will need to provide the quantitative insights about system’s trade-offs and vulnerabilities to hydroclimatic extremes (e.g. floods and droughts) and demographic uncertainties (e.g. population growth, and water uses).\n",
    "\n",
    "### **Data**\n",
    "You can find the data in the relevant folder for this mini-project in Brighstpace.\n",
    "\n",
    "\n",
    "### **Tasks and grading**\n",
    "\n",
    "There are 7 tasks in this project. In total, 10 points can be earned for these 8 tasks. The weight per task is shown below.\n",
    "1. **Data discovery and visualisation:** visualize the Pareto optimal trade-offs across multiple conflicting uses in the Nile River Basin. [1 point]\n",
    "2. **Pre-analysis:** select and analyze policies from the Pareto-optimal set. [0.5 points]\n",
    "3. **Data preparation:** define a compromise solution across the system's objectives. [0.5 points]\n",
    "4. **Main analysis:** perform a vulnerability and sensitivity analysis. [3 points]\n",
    "5. **Reflection (a):** what are the implicit assumptions that you made during your analysis? [1 point]\n",
    "6. **Reflection (b):** how do you think those assumptions impacted the outcomes of the analysis? [2 points]\n",
    "7. **Reflection (c):** name two strengths and two limitations of using your selected models for decision support. [2 points]\n",
    "\n",
    "*The detailed instructions for the above tasks can be found in **complementary notes.ipynb** notebook.*\n",
    "\n",
    "### **Grading criteria:**\n",
    "\n",
    "For the first 4 tasks:\n",
    "**Correctness of methods and techniques (45%)**\n",
    "**Completeness (45%)**\n",
    "**Coding skills (10%)**\n",
    "\n",
    "For tasks 5, 6 and 7:\n",
    "**Depth of critical thinking and creativity (60%)**\n",
    "**Completeness (40%)**\n",
    "\n",
    "### **Submission**\n",
    "When you finish the project, please submit the Jupyter Notebook file of your work to Brightspace and prepare a final presentation (including the results of the tasks) to be delivered on the presentations day.\n",
    "\n",
    "This project is a group project and so each group must submit one Jupyter Notebook file. However, it is expected that all members of the group contribute to the project. **Please prepare a short statement about the \"Members contributions\" in your final presentation and outline who did what in the project.**\n",
    "\n",
    "The deadline for submission is **13/01/2023**."
   ],
   "metadata": {
    "collapsed": false,
    "pycharm": {
     "name": "#%% md\n"
    }
   }
  },
  {
   "cell_type": "code",
   "execution_count": null,
   "outputs": [],
   "source": [],
   "metadata": {
    "collapsed": false,
    "pycharm": {
     "name": "#%%\n"
    }
   }
  }
 ],
 "metadata": {
  "kernelspec": {
   "display_name": "Python 3.9.15 64-bit ('master')",
   "language": "python",
   "name": "python3"
  },
  "language_info": {
   "codemirror_mode": {
    "name": "ipython",
    "version": 3
   },
   "file_extension": ".py",
   "mimetype": "text/x-python",
   "name": "python",
   "nbconvert_exporter": "python",
   "pygments_lexer": "ipython3",
   "version": "3.9.15"
  },
  "vscode": {
   "interpreter": {
    "hash": "7974d34fcb2fda30c24d36d46a04787ea74667e8ee7ebb23e71d798c59985c98"
   }
  }
 },
 "nbformat": 4,
 "nbformat_minor": 5
}