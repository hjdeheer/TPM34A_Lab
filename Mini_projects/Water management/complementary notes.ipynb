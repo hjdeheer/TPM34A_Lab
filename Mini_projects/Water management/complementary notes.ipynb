{
 "cells": [
  {
   "cell_type": "markdown",
   "source": [
    "# Mini-project #3: Water Basin Management and Vulnerability Analysis\n",
    "\n",
    "For this project, you will perform a trade-off and vulnerability analysis for the different actors and water uses of the Nile river basin, particularly for Ethiopia, Sudan and Egypt.\n",
    "\n",
    "**Nile River Basin context:**\n",
    "\n",
    "Conflicts across the Nile's water uses prompts the need for unbiased decision support.  From Egypt's and Sudan's perspective, the goal is to minimize water shortages, whereas for Ethiopia, the priority is to maximize hydropower generation from the GERD. Therefore, no single objective formulation can maximize performance across all actors.  Due to the conflicting interests of the three countries, we use a many objective optimization problem formulation to find the **Pareto-optimal set**, where one objective cannot improve performance without degrading performance in one or more objectives.  \n",
    "\n",
    "We define the following objectives for the problem:\n",
    "\n",
    "* Minimize average annual water shortage for Egypt and for Sudan during the horizon of 2022-2042.\n",
    "* Minimize the deficit of a month with the 90$^{th}$ percentile worst deficit. This objective denotes high risk aversion by minimizing the deficit for a catastrophic month for Sudan and Egypt.\n",
    "* Minimize the frequency of months when the water level in the High Aswan Dam (HAD) falls below the minimum hydroenergy production level. This objective reflects Egypt's hydropower generation goals.\n",
    "* Maximize hydropower production Ethiopia desires to maximize the hydroenergy they produced from the GERD. Objectives are summarised in the table below. \n",
    "\n",
    "\n",
    "Country  | Objective     |Aggregation level| Unit    |Direction|\n",
    "---------|---------------|-----------------|---------|---------|\n",
    "Egypt    | Demand deficit| Annual average  | BCM/year|minimize |\n",
    "Egypt    | Demand deficit| 90th percentile worst month|BCM/month|minimize\n",
    "Egypt    | HAD level reliability| Frequency over 20 years| percent | minimize|\n",
    "Sudan|Demand deficit| Annual average|BCM/month|minimize|\n",
    "Sudan|Demand deficit| 90 th percentile worst month| BCM/month| minimize|\n",
    "Ethiopia| Hydropower generation|Annual average|TWh/year|maximize|\n",
    "\n",
    "\n",
    "To find the mult-reservoir, multi-objective control policy for the Nile system, we use **Evolutionary Multi-objective Direct Policy Search [(EMODPS)](https://ascelibrary.org/doi/10.1061/%28ASCE%29WR.1943-5452.0000570)** due to its flexibility to simultaneously find policies across many objectives, and its ability to overcome the dimensionality issues encountered when adding more states to the system (*i.e.* multiple reservoirs and streamflow scenarios). We first parameterize the control policy via nonlinear approximators, in this case, we use radial basis functions, due to their flexibility to find the control policy for multiple objectives.  The parameters of the radial basis functions are then optimized using a multiobjective evolutionary algorithm (MOEA) based on their performance across all the objectives of the system.  \n",
    "\n",
    "A weighted Gaussian RBF is used to parameterize the release policy below. \n",
    "\n",
    "\\begin{align}\n",
    "        u^k_{τ} = u^k_{\\theta}(Z_{\\tau})\\sum_{i=1} w_i^k\\phi(Z_{\\tau})\n",
    "\\end{align}\n",
    "\n",
    "where $u_{\\tau}^k$ is the $k^{th}$ release decision at month $\\tau$ and $\\theta$ is the parameter vector for the RBFs defined as $\\theta=|c_{i,j}, b_{i,j}, w_i^k|$, $\\bar{z}_{tau}$ is the input vector such that $\\bar{z}_{tau}=|z_{\\tau, 1},..., z_{\\tau, m}|$.  The calculation of a single Gaussian RBF is shown in the equation below:\n",
    "\n",
    "\n",
    "\\begin{align}\n",
    "        𝜑(\\bar{Z}_{\\tau})= exp(-\\sum_{j=1}^m\\frac{(z_{\\tau,j}-c_{j,i})^2}{b^2_{j,i}})\n",
    "\\end{align}"
   ],
   "metadata": {
    "id": "YehYVUTXRrlM",
    "pycharm": {
     "name": "#%% md\n"
    }
   },
   "id": "YehYVUTXRrlM"
  },
  {
   "cell_type": "markdown",
   "source": [
    "## Task 1. Visualize Pareto optimal trade-offs across multiple conflicting water uses in the Nile River Basin\n",
    "\n",
    "The data/baseline_results.csv contains the Pareto-optimal set of solutions for the Nile goals summarized in the table above.  The data is organized in columns which include the decision variables (values assigned to free parameters of the policy function) and the last six columns of the dataframe are the corresponding objective values.  Each row in the dataframe is a different Pareto-optimal policy.  In order to visualize the tradeoffs you first need to split the results into policies and objective values, once you isolate the objectives, you can visualize the tradeoffs across them.  A popular visualization strategy for  trade-off analysis across many objectives are [parallel coordinates](https://ieeexplore.ieee.org/document/636793). With parallel coordinates, each vertical axis represents the values for a particular objective.  The direction of preference is fixed across all objectives such that a line on top of all axis would represent the 'ideal' solution.  If two lines cross, it indicates that a tradeoff was encountered, in other words, it denotes high performance in one objective and low performance in another objective. From the data, discover and discuss the trade-offs across objectives and generate a visualization of the tradeoffs."
   ],
   "metadata": {
    "id": "ks17Z357cYu_",
    "pycharm": {
     "name": "#%% md\n"
    }
   },
   "id": "ks17Z357cYu_"
  },
  {
   "cell_type": "markdown",
   "id": "208233e2-149e-4e0b-b4a9-30e29692efcd",
   "metadata": {
    "id": "208233e2-149e-4e0b-b4a9-30e29692efcd",
    "pycharm": {
     "name": "#%% md\n"
    }
   },
   "source": [
    "## Task 2. Select and analyze policies from the Pareto-optimal set\n",
    "\n",
    "Find the policies that yield the best performance across each of the Nile system's objectives (minimum value for minimization objectives and maximum value for maximization objectives). Give self-explanatory names to these policies and color-code them in your plot.\n"
   ]
  },
  {
   "cell_type": "markdown",
   "source": [
    "## Task 3. Defining compromise solutions across the system's objectives\n",
    "\n",
    "Define two compromise solutions, this could be done by setting reliability thresholds across the different objectives. Please justify your selection.\n",
    "\n",
    "Plot these solutions along with the best policies across each objective.  Provide the parallel coordinates that include the full set of policies with the eight highlighted policies (*i.e.* the best performance across the six objectives and the two compromise solutions).\n",
    "\n"
   ],
   "metadata": {
    "collapsed": false,
    "pycharm": {
     "name": "#%% md\n"
    }
   }
  },
  {
   "cell_type": "markdown",
   "source": [
    "## Task 4. Perform a vulnerability and sensitivity analysis\n",
    "\n",
    "The idea is to test the Nile sytem model outcomes under a suite of  states-of-the-world (SOWs), this is a fundamental concept in decision analysis which indicates the decision-maker's and modeler's views on uncertainty about the world. In the Nile case, we identify seven uncertain factors that may impact the outcomes of interest.  For each variable, we assume a lower and upper bound described in the following table. \n",
    "\n",
    "Uncertain Variable| Baseline value | Range|\n",
    "------------------|----------------|-------------------------|\n",
    "Annual demand growth rate| 0.0212| 0.01 - 0.03|\n",
    "Blue Nile mean inflow coefficient| 1 |0.75 - 1.25|\n",
    "White Nile mean inflow coefficient| 1 |0.75 - 1.25|\n",
    "Atbara mean inflow coefficient| 1 |0.75 - 1.25|\n",
    "Blue Nile deviation coefficient| 1 |0.5 - 1.5|\n",
    "White Nile deviation coefficient| 1 |0.5 - 1.5|\n",
    "Atbara deviation coefficient| 1 |0.5 - 1.5|\n",
    "\n",
    "## Experimental design\n",
    "\n",
    "[Latin Hypercube Sampling (LHS)](https://en.wikipedia.org/wiki/Latin_hypercube_sampling) was used to sample from among all the uncertain variables simultaneously, which is a multi-dimensional sampling technique. \n",
    "Once the candidate set of samples was obtained, the simulation was performed for each policy and scenario combination.  \n",
    "\n",
    "Within the data folder you will find experiments.csv as well as the outcomes.csv. Both files have 5000 rows (5 policies * 1000 scenarios).  The experiments.csv file contains the distinct scenarios with the values sampled from the range of uncertain variables via latin hypercube sampling. The outcomes.csv contains the objective value realizations corresponding to these scenario-policy combinations.\n",
    "\n",
    "You will need to examine the sensitivity of the outcomes of interest to  uncertain conditions and to the policy selection:\n",
    "\n",
    "1. Using at least two machine learning techniques, discover the combination of uncertain factors (i.e. features of your machine learning model) that yield successful and unsuccessful outcomes across each objective, where 75% of the best objective value is classified as a success, and below 75% of the best objective value is classified as failure.\n",
    "\n",
    "2. Infer the sensitivity of the model to the different uncertain factors, that is, which factor matters the most in our outcomes of interest (the objectives).\n",
    "\n",
    "There are a number of machine learning techniques to generate these insights which are based, but not limited to fitting multiple regression/classification trees to discover the relationship between inputs and outputs.  "
   ],
   "metadata": {
    "collapsed": false,
    "pycharm": {
     "name": "#%% md\n"
    }
   }
  },
  {
   "cell_type": "code",
   "execution_count": null,
   "outputs": [],
   "source": [],
   "metadata": {
    "collapsed": false,
    "pycharm": {
     "name": "#%%\n"
    }
   }
  }
 ],
 "metadata": {
  "kernelspec": {
   "display_name": "Python 3",
   "language": "python",
   "name": "python3"
  },
  "language_info": {
   "codemirror_mode": {
    "name": "ipython",
    "version": 3
   },
   "file_extension": ".py",
   "mimetype": "text/x-python",
   "name": "python",
   "nbconvert_exporter": "python",
   "pygments_lexer": "ipython3",
   "version": "3.9.7"
  },
  "colab": {
   "provenance": []
  }
 },
 "nbformat": 4,
 "nbformat_minor": 5
}