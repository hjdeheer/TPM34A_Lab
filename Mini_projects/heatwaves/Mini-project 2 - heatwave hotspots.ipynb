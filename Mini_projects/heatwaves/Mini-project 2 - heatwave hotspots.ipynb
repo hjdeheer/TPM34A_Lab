{
 "cells": [
  {
   "cell_type": "markdown",
   "id": "e32e6a8d",
   "metadata": {
    "pycharm": {
     "name": "#%% md\n"
    }
   },
   "source": [
    "# TPM034A Machine Learning for socio-technical systems \n",
    "## `Mini-project #2: Heatwave Hotspot Identification (HHI)`\n",
    "\n",
    "**Delft University of Technology**<br>\n",
    "**Q2 2022**<br>\n",
    "**Module manager:** Dr. Sander van Cranenburgh <br>\n",
    "**Instructors:** Dr. Sander van Cranenburgh, Dr. Nadia Metoui, Dr. Amir Pooyan Afghari <br>\n",
    "**TAs:**  Francisco Garrido Valenzuela & Lucas Spierenburg <br>"
   ]
  },
  {
   "cell_type": "markdown",
   "id": "5f634f93",
   "metadata": {
    "pycharm": {
     "name": "#%% md\n"
    }
   },
   "source": [
    "## `Learning objectives:`\n",
    "This mini-project addresses LO3, LO4, LO5 and LO6 in the course.\n",
    "\n",
    "After the course, students can:\n",
    "1. explain fundamental concepts of machine learning (ML).\n",
    "2. conceptually explain the workings of a selected number of ML models and eXplainable AI (XAI) techniques, and apply these to empirical data.\n",
    "3. **identify applications of ML and XAI techniques in real-world socio-technical systems**\n",
    "4. **examine the impact of ML-based solutions and interventions on individuals, organisations, and society through XAI.**\n",
    "5. **conduct an in-depth analysis of a real-world socio-technical challenge, by applying ML and XAI to empirical data.**\n",
    "6. **reflect on the strengths and limitations of ML and XAI in real-world socio-technical systems.**"
   ]
  },
  {
   "cell_type": "markdown",
   "metadata": {
    "collapsed": false,
    "pycharm": {
     "name": "#%% md\n"
    }
   },
   "source": [
    "## `Project description` <br>\n",
    "\n",
    "### **Introduction**\n",
    "\n",
    "Climate change has brought unknown challenges to cities and urban areas across the world. Since 2018, the Dutch cities, where the average summer temperature is around 23 °C, have had six heatwaves. In 2019, they experienced the highest temperature ever registered at 39,1 °C. Such events have put many urban systems at the edge of their capacity and have resulted in a devastating consequence: an increase in the total number of mortalities: 400 extra deaths in 2019.\n",
    "\n",
    "Emergency services are at the core of a thriving city: ambulances rush to health emergencies, firefighters put out the fire, and the police help with car accidents. In such cases, it is critical to understand **where calls come from**, especially during a heatwave. Knowing where the **“heatwave hotspots”** (those locations with high number of calls) are located can often help emergency services plan limited resources. While there is empirical evidence, for example, that more ambulance calls are made from the urban heat islands. Additionally, it is vital to understand **when help is needed**: during the day when the temperature is the highest or at night when the effect of the heat has accumulated. We aim to dive into these spatial and temporal aspects with open data.\n",
    "\n",
    "The project's goal is to find the heatwave hotspots (spatially and temporally) in three cities of interest (Amsterdam, Rotterdam, and The Hague), and to explain the underlying factors. More specifically:\n",
    "*What were the most affected wijken in Amsterdam, Rotterdam, and The Hague and during the 2019 European heatwave?*\n",
    "*What time of the day (daytime or night-time) those hotspots were most affected by the heatwave?*\n",
    "*What factors contributed to the heatwave hotspots in 2019, and did those factors change during the 2020 heatwave?*\n",
    "\n",
    "### **Data**\n",
    "You have access to the following datasets:\n",
    "1. Ambulance call records from the P2000 network for 2018, 2019, and 2020;\n",
    "2. Socio-economic and built environment data by wijken en buurten from CBS for 2018, 2019, and 2020;\n",
    "3. Places of interest (e.g. supermarkets, schools, etc.) data from OpenStreetMap.\n",
    "\n",
    "For a translation of the columns in English, please check [this file](source/dictionary.csv).\n",
    "\n",
    "### **Tasks and grading**\n",
    "\n",
    "There are 8 tasks in this project. In total, 10 points can be earned for these 8 tasks. The weight per task is shown below.\n",
    "\n",
    "1. **Data preparation:** construct data from multiple data sources, separate training and testing data, handle the missing data, handle outliers. [1 point]\n",
    "2. **Data discovery and visualisation:** investigate the distribution of variables, the correlation between variables, etc. [1 point]\n",
    "3. **Selection and application of a proper analytical technique:** create a regression or ML model to predict the heatwave hotspots. [1 point]\n",
    "4. **Model evaluation and output visualization:** evaluate the prediction ability of the selected model and create heatmaps of model predictions. [1 point]\n",
    "5. **Model explanation:** identify top 5 factors that have the most contribution to heatwave hotspots. [1 point]\n",
    "6. **Reflection (a):** name two strengths and two limitations of using your selected model to predict the heatwave hotspots. [2 points]\n",
    "7. **Reflection (b):** discuss the impact of these strengths and limitations on individuals, organisations, and society. [2 points]\n",
    "8. **Reflection (c):** propose an alternative potential solution to mitigate the most severe limitation. [1 point]\n",
    "\n",
    "\n",
    "### **Grading criteria:**\n",
    "\n",
    "For the first 5 tasks:\n",
    "**Correctness of methods and techniques (45%)**\n",
    "**Completeness (45%)**\n",
    "**Coding skills (10%)**\n",
    "\n",
    "For tasks 6, 7 and 8:\n",
    "**Depth of critical thinking and creativity (60%)**\n",
    "**Completeness (40%)**\n",
    "\n",
    "### **Submission**\n",
    "When you finish the project, please submit the Jupyter Notebook file of your work to Brightspace and prepare a final presentation (including the results of the tasks) to be delivered on the presentations day.\n",
    "\n",
    "This project is a group project and so each group must submit one Jupyter Notebook file. However, it is expected that all members of the group contribute to the project. **Please prepare a short statement about the \"Members contributions\" in your final presentation and outline who did what in the project.**\n",
    "\n",
    "The deadline for submission is **13/01/2023**."
   ]
  },
  {
   "cell_type": "code",
   "execution_count": 1,
   "metadata": {
    "collapsed": false,
    "pycharm": {
     "name": "#%%\n"
    }
   },
   "outputs": [
    {
     "name": "stderr",
     "output_type": "stream",
     "text": [
      "C:\\Amir - TUDelft\\TEACHING\\TPM034A\\Repos\\Admin_2022\\mini_projects\\heatwaves\\source\\heatwaves.py:156: DtypeWarning: Columns (90,91,92,93,120,121,122,123) have mixed types. Specify dtype option on import or set low_memory=False.\n",
      "  df = pd.read_csv('source/socio_dem.csv', low_memory = 'False')\n"
     ]
    }
   ],
   "source": [
    "# Getting the data\n",
    "\n",
    "## You can use the following methoda to get the databases for this project\n",
    "### get_emergency_calls() to get the entire database of emergency calls\n",
    "### get_pois_data() to get the POIS at WK level\n",
    "### get_socio_dem(year, agg, lang)\n",
    "#### year: 2018, 2019, 2020\n",
    "#### agg_level: 'GM', 'WK' or 'BU'\n",
    "#### Language (language): 'EN' or 'ND'\n",
    "\n",
    "import source.heatwaves as htwv\n",
    "\n",
    "calls = htwv.get_emergency_calls()\n",
    "pois = htwv.get_pois()\n",
    "socio_dem = htwv.get_socio_dem(agg_level = 'WK', year = 2018, lang = 'EN')"
   ]
  },
  {
   "cell_type": "code",
   "execution_count": 4,
   "id": "2c641e5e",
   "metadata": {
    "pycharm": {
     "name": "#%%\n"
    }
   },
   "outputs": [
    {
     "data": {
      "text/html": [
       "<div>\n",
       "<style scoped>\n",
       "    .dataframe tbody tr th:only-of-type {\n",
       "        vertical-align: middle;\n",
       "    }\n",
       "\n",
       "    .dataframe tbody tr th {\n",
       "        vertical-align: top;\n",
       "    }\n",
       "\n",
       "    .dataframe thead th {\n",
       "        text-align: right;\n",
       "    }\n",
       "</style>\n",
       "<table border=\"1\" class=\"dataframe\">\n",
       "  <thead>\n",
       "    <tr style=\"text-align: right;\">\n",
       "      <th></th>\n",
       "      <th>pmeId</th>\n",
       "      <th>pmeTimeStamp</th>\n",
       "      <th>wk_code</th>\n",
       "      <th>wk_naam</th>\n",
       "      <th>gm_naam</th>\n",
       "    </tr>\n",
       "  </thead>\n",
       "  <tbody>\n",
       "    <tr>\n",
       "      <th>0</th>\n",
       "      <td>12284702</td>\n",
       "      <td>01/01/2017 00:00</td>\n",
       "      <td>WK051812</td>\n",
       "      <td>Wijk 12 Bomen- en Bloemenbuurt</td>\n",
       "      <td>'s-Gravenhage</td>\n",
       "    </tr>\n",
       "    <tr>\n",
       "      <th>1</th>\n",
       "      <td>12284706</td>\n",
       "      <td>01/01/2017 00:00</td>\n",
       "      <td>WK036304</td>\n",
       "      <td>Nieuwmarkt/Lastage</td>\n",
       "      <td>Amsterdam</td>\n",
       "    </tr>\n",
       "    <tr>\n",
       "      <th>2</th>\n",
       "      <td>12284715</td>\n",
       "      <td>01/01/2017 00:02</td>\n",
       "      <td>WK059915</td>\n",
       "      <td>Charlois</td>\n",
       "      <td>Rotterdam</td>\n",
       "    </tr>\n",
       "    <tr>\n",
       "      <th>3</th>\n",
       "      <td>12284725</td>\n",
       "      <td>01/01/2017 00:04</td>\n",
       "      <td>WK059910</td>\n",
       "      <td>Feijenoord</td>\n",
       "      <td>Rotterdam</td>\n",
       "    </tr>\n",
       "    <tr>\n",
       "      <th>4</th>\n",
       "      <td>12284746</td>\n",
       "      <td>01/01/2017 00:07</td>\n",
       "      <td>WK059914</td>\n",
       "      <td>Prins Alexander</td>\n",
       "      <td>Rotterdam</td>\n",
       "    </tr>\n",
       "    <tr>\n",
       "      <th>...</th>\n",
       "      <td>...</td>\n",
       "      <td>...</td>\n",
       "      <td>...</td>\n",
       "      <td>...</td>\n",
       "      <td>...</td>\n",
       "    </tr>\n",
       "    <tr>\n",
       "      <th>784147</th>\n",
       "      <td>17060161</td>\n",
       "      <td>30/08/2020 19:15</td>\n",
       "      <td>WK036335</td>\n",
       "      <td>IJburg West</td>\n",
       "      <td>Amsterdam</td>\n",
       "    </tr>\n",
       "    <tr>\n",
       "      <th>784148</th>\n",
       "      <td>17060178</td>\n",
       "      <td>30/08/2020 19:21</td>\n",
       "      <td>WK036329</td>\n",
       "      <td>Dapperbuurt</td>\n",
       "      <td>Amsterdam</td>\n",
       "    </tr>\n",
       "    <tr>\n",
       "      <th>784149</th>\n",
       "      <td>17060179</td>\n",
       "      <td>30/08/2020 19:23</td>\n",
       "      <td>WK059910</td>\n",
       "      <td>Feijenoord</td>\n",
       "      <td>Rotterdam</td>\n",
       "    </tr>\n",
       "    <tr>\n",
       "      <th>784150</th>\n",
       "      <td>17060180</td>\n",
       "      <td>30/08/2020 19:23</td>\n",
       "      <td>WK051826</td>\n",
       "      <td>Wijk 26 Bezuidenhout</td>\n",
       "      <td>'s-Gravenhage</td>\n",
       "    </tr>\n",
       "    <tr>\n",
       "      <th>784151</th>\n",
       "      <td>17060195</td>\n",
       "      <td>30/08/2020 19:28</td>\n",
       "      <td>WK051807</td>\n",
       "      <td>Wijk 07 Scheveningen</td>\n",
       "      <td>'s-Gravenhage</td>\n",
       "    </tr>\n",
       "  </tbody>\n",
       "</table>\n",
       "<p>784152 rows × 5 columns</p>\n",
       "</div>"
      ],
      "text/plain": [
       "           pmeId      pmeTimeStamp   wk_code                         wk_naam  \\\n",
       "0       12284702  01/01/2017 00:00  WK051812  Wijk 12 Bomen- en Bloemenbuurt   \n",
       "1       12284706  01/01/2017 00:00  WK036304              Nieuwmarkt/Lastage   \n",
       "2       12284715  01/01/2017 00:02  WK059915                        Charlois   \n",
       "3       12284725  01/01/2017 00:04  WK059910                      Feijenoord   \n",
       "4       12284746  01/01/2017 00:07  WK059914                 Prins Alexander   \n",
       "...          ...               ...       ...                             ...   \n",
       "784147  17060161  30/08/2020 19:15  WK036335                     IJburg West   \n",
       "784148  17060178  30/08/2020 19:21  WK036329                     Dapperbuurt   \n",
       "784149  17060179  30/08/2020 19:23  WK059910                      Feijenoord   \n",
       "784150  17060180  30/08/2020 19:23  WK051826            Wijk 26 Bezuidenhout   \n",
       "784151  17060195  30/08/2020 19:28  WK051807            Wijk 07 Scheveningen   \n",
       "\n",
       "              gm_naam  \n",
       "0       's-Gravenhage  \n",
       "1           Amsterdam  \n",
       "2           Rotterdam  \n",
       "3           Rotterdam  \n",
       "4           Rotterdam  \n",
       "...               ...  \n",
       "784147      Amsterdam  \n",
       "784148      Amsterdam  \n",
       "784149      Rotterdam  \n",
       "784150  's-Gravenhage  \n",
       "784151  's-Gravenhage  \n",
       "\n",
       "[784152 rows x 5 columns]"
      ]
     },
     "execution_count": 4,
     "metadata": {},
     "output_type": "execute_result"
    }
   ],
   "source": [
    "calls"
   ]
  }
 ],
 "metadata": {
  "kernelspec": {
   "display_name": "Python 3.9.15 64-bit ('master')",
   "language": "python",
   "name": "python3"
  },
  "language_info": {
   "codemirror_mode": {
    "name": "ipython",
    "version": 3
   },
   "file_extension": ".py",
   "mimetype": "text/x-python",
   "name": "python",
   "nbconvert_exporter": "python",
   "pygments_lexer": "ipython3",
   "version": "3.9.15"
  },
  "vscode": {
   "interpreter": {
    "hash": "7974d34fcb2fda30c24d36d46a04787ea74667e8ee7ebb23e71d798c59985c98"
   }
  }
 },
 "nbformat": 4,
 "nbformat_minor": 5
}