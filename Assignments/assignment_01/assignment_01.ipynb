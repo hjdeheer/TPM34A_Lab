{
 "cells": [
  {
   "cell_type": "markdown",
   "metadata": {},
   "source": [
    "# TPM034A Machine Learning for socio-technical systems \n",
    "## `Assignment 01: Discover, explore and visualise data`\n",
    "\n",
    "**Delft University of Technology**<br>\n",
    "**Q2 2022**<br>\n",
    "**Instructor:** Sander van Cranenburgh <br>\n",
    "**TAs:**  Francisco Garrido Valenzuela & Lucas Spierenburg <br>"
   ]
  },
  {
   "cell_type": "markdown",
   "metadata": {},
   "source": [
    "### `Instructions`\n",
    "\n",
    "**Assignments aim to:**<br>\n",
    "* Examine your understanding of the key concepts and techniques.\n",
    "* Examine your the applied ML skills.\n",
    "\n",
    "**Assignments:**<br>\n",
    "* Are graded and must be submitted (see the submission instruction below). "
   ]
  },
  {
   "cell_type": "markdown",
   "metadata": {},
   "source": [
    "### `Workspace set-up`\n",
    "**Option 1: Google Colab**<br>\n",
    "Uncomment the following cells code lines if you are running this notebook on Colab"
   ]
  },
  {
   "cell_type": "code",
   "execution_count": null,
   "metadata": {},
   "outputs": [],
   "source": [
    "#!git clone https://github.com/TPM34A/Q2_2022\n",
    "#!pip install -r Q2_2022/requirements_colab.txt\n",
    "#!mv \"/content/Q2_2022/Assignments/assignment_01/data\" /content/data"
   ]
  },
  {
   "cell_type": "markdown",
   "metadata": {},
   "source": [
    "**Option 2: Local environment**<br>\n",
    "Uncomment the following cell if you are running this notebook on your local environment. This will install all dependencies on your Python version."
   ]
  },
  {
   "cell_type": "code",
   "execution_count": null,
   "metadata": {},
   "outputs": [],
   "source": [
    "#!pip install -r requirements.txt"
   ]
  },
  {
   "cell_type": "markdown",
   "metadata": {},
   "source": [
    "## `Application: Liveability and affordable housing in Amsterdam` <br>\n",
    "\n",
    "### **Introduction**\n",
    "There is a widespread sense that affordable housing for the middle incomes households is under pressure. Especially for new entrants to the housing markets (i.e. those who do not yet own a house), affordable houses to buy in pleasant neighboorhoods are in short supply. Entrants to the housing market typically are people in their 20s and 30s.<br>\n",
    "\n",
    "The municipality of Amsterdam would like to tackle this issue. (see https://openresearch.amsterdam/en/page/77950/housing-crisis for articles on the subject). However, at present, the municipality of Amsterdam lacks insights on the extent to which access to affordable houses has deteriorated. <br>\n",
    "\n",
    "*Your are asked to assist the municipality of Amsterdam in investigating **whether** and **where** access to afforable houses has deteriorated.*<br>\n",
    "\n",
    "### **Data**\n",
    "\n",
    "You have access to four data sets:\n",
    "1. Real-estate prices in Amsterdam, at buurt level\n",
    "1. Liveability scores in the Netherlands, at buurt level\n",
    "1. Population statistics in the Netherlands, at buurt level\n",
    "1. Buurten boundaries in the Netherlands (GIS)\n",
    "\n",
    "### **Notes**\n",
    "- In the livability scores dataset the column *versie* show the different versions of the livability score, only use the 3rd version. Thus, you may filter this column to keep *Leefbaarometer 3.0*\tonly.\n",
    "- You may assume that the population statistics and geospatial data have not substantially changed across the years 2014 and 2020. Thus, you may assume both apply to 2014 and 2020.\n",
    "- For Population statistics (3rd dataset), [this document](data/buurt/metadata_buurt.csv) provides a brief explanation of the features.\n",
    "\n",
    "### **Tasks and grading**\n",
    "\n",
    "Your assigment is divided into 3 subtasks: (1) Data preparation, (2) Data exploration and (3) Assess the affordability of liveable neighborhoods. In total, 10 points can be earned in this assignment. The weight per subtask is shown below. \n",
    "\n",
    "1.  **Data preparation: construct data from multiple data sources.** [2 pnt]\n",
    "    1. Load the four dataset and show a preview of the dataset structure (some DataFrame rows).\n",
    "    1. Prepare the table data (non-GIS) to have two different DataFrames (for 2014 and 2020) that contains the following information:\n",
    "        - the liveability data for the year of interest, using the 3rd version of the Leefbaarometer\n",
    "        - population data \n",
    "        - Real-estate prices\n",
    "        - at the buurt level\n",
    "        - *Make sure to filter the data and remove NULL (NaN values) if required*\n",
    "    1. Add the geographic component of the buurten to your data.\n",
    "1. **Data exploration: discover and visualise data.** [4 pnt]\n",
    "    1.  Investigate the statistical distribution of the real-estate price levels and liveability in both years, using either a histogram of a CDF.\n",
    "    1. Visualise the correlation between real-estate prices and liveability in Amsterdam, at the buurt level, with a scatter plot for each year. Then, visualise spatially real-estate prices and liveability in Amsterdam for 2014 and 2020 (use the same color scale for years 2014 and 2020).\n",
    "1. **Assess the change in affordability of liveable neighbourhoods.** [3 pnt]\n",
    "    1. Explore how the change in liveability associates with a change in real-estate prices, using a scatter plot.\n",
    "    1. Compute the ratio of the liveability score over the real-estate price for both years, and show how the distribution of the ratio of liveability over real-estate price has changed between the two years.\n",
    "    1. Determine the 5 buurten in which the ratio of liveability over real-estate has deteriorated most.\n",
    "    1. Determine whether the number of buurten with price < 5k euro/m2 and a liveability ratio > 1/k euro has decreased in 2020, compared to 2014\n",
    "1. **Qualitative reflection on machine learning and generalisation: There are some buurts in Amsterdam for which real-estate price data were missing. Suppose the minicipality of Amsterdam asks you whether you can create a machine learning model that can predict real-estate prices from the liveability index. Do you think this is possible? Explain your answer (conceptually).** [1 pnt]\n",
    "\n",
    "### **Submission**\n",
    "- The deadline for this assignment is **Wed, 23 November 2022** \n",
    "- Use **Python 3.7 or above**\n",
    "- You have to submit your work in zip file with the ipynb (fully executed) in brightspace"
   ]
  },
  {
   "cell_type": "code",
   "execution_count": null,
   "metadata": {},
   "outputs": [],
   "source": [
    "import os\n",
    "from os import getcwd\n",
    "from pathlib import Path\n",
    "\n",
    "import numpy as np\n",
    "import pandas as pd\n",
    "import geopandas as gpd\n",
    "import matplotlib.pyplot as plt\n",
    "import seaborn as sns\n",
    "\n",
    "from statsmodels.api import OLS, add_constant, tools\n",
    "pd.set_option('display.max_columns', None)"
   ]
  },
  {
   "cell_type": "markdown",
   "metadata": {},
   "source": [
    "### 1. Data preparation: construct data from multiple data sources [2 pnt]\n",
    "#### 1.1 Load the four dataset and show a preview of the dataset structure (some DataFrame rows)."
   ]
  },
  {
   "cell_type": "code",
   "execution_count": null,
   "metadata": {},
   "outputs": [],
   "source": []
  },
  {
   "cell_type": "markdown",
   "metadata": {},
   "source": [
    "#### 1.2 Prepare the table data (non-GIS) to have two different DataFrames (for 2014 and 2020) that contains the following information:\n",
    "- the liveability data for the year of interest, using the 3rd version of the Leefbaarometer\n",
    "- population data \n",
    "- Real-estate prices\n",
    "- at the buurt level\n",
    "- *Make sure to filter the data and remove NULL (NaN values) if required*"
   ]
  },
  {
   "cell_type": "code",
   "execution_count": null,
   "metadata": {},
   "outputs": [],
   "source": []
  },
  {
   "cell_type": "markdown",
   "metadata": {},
   "source": [
    "#### 1.3 Add the geographic component of the buurten to your data"
   ]
  },
  {
   "cell_type": "code",
   "execution_count": null,
   "metadata": {},
   "outputs": [],
   "source": []
  },
  {
   "cell_type": "markdown",
   "metadata": {},
   "source": [
    "### 2. Data exploration: discover and visualise data [4 pnt]\n",
    "#### 2.1 Investigate the statistical distribution of the real-estate price levels and liveability in both years"
   ]
  },
  {
   "cell_type": "code",
   "execution_count": null,
   "metadata": {},
   "outputs": [],
   "source": []
  },
  {
   "cell_type": "markdown",
   "metadata": {},
   "source": [
    "#### 2.2 Visualise the correlation between real-estate prices and liveability in Amsterdam, at the buurt level, with a scatter plot for each year. Then, visualise spatially real-estate prices and liveability in Amsterdam for 2014 and 2020 (use the same color scale for years 2014 and 2020)."
   ]
  },
  {
   "cell_type": "code",
   "execution_count": null,
   "metadata": {},
   "outputs": [],
   "source": []
  },
  {
   "cell_type": "markdown",
   "metadata": {},
   "source": [
    "### 3. Assess the change in affordability of liveable neighbourhoods [3 pnt]\n",
    "\n",
    "#### 3.1 Explore how the change in liveability associates with a change in real-estate prices, using a scatter plot."
   ]
  },
  {
   "cell_type": "code",
   "execution_count": null,
   "metadata": {},
   "outputs": [],
   "source": []
  },
  {
   "cell_type": "markdown",
   "metadata": {},
   "source": [
    "#### 3.2 Compute the ratio of the liveability score over the real-estate price for both years, and show how the distribution of the ratio of liveability over real-estate price has changed between the two years."
   ]
  },
  {
   "cell_type": "code",
   "execution_count": null,
   "metadata": {},
   "outputs": [],
   "source": []
  },
  {
   "cell_type": "markdown",
   "metadata": {},
   "source": [
    "#### 3.3 Determine the 5 buurten in which the ratio of liveability over real-estate has deteriorated most."
   ]
  },
  {
   "cell_type": "code",
   "execution_count": null,
   "metadata": {},
   "outputs": [],
   "source": []
  },
  {
   "cell_type": "markdown",
   "metadata": {},
   "source": [
    "#### 3.4 Determine whether the number of buurten with price < 5k euro/m2 and a liveability ratio > 1/k euro has decreased in 2020, compared to 2014"
   ]
  },
  {
   "cell_type": "code",
   "execution_count": null,
   "metadata": {},
   "outputs": [],
   "source": []
  },
  {
   "cell_type": "markdown",
   "metadata": {},
   "source": [
    "### 4. Qualitative reflection on machine learning and generalisation [1 pnt]"
   ]
  },
  {
   "cell_type": "markdown",
   "metadata": {},
   "source": []
  }
 ],
 "metadata": {
  "kernelspec": {
   "display_name": "Python 3.7.15 64-bit ('tpm34a')",
   "language": "python",
   "name": "python3"
  },
  "language_info": {
   "codemirror_mode": {
    "name": "ipython",
    "version": 3
   },
   "file_extension": ".py",
   "mimetype": "text/x-python",
   "name": "python",
   "nbconvert_exporter": "python",
   "pygments_lexer": "ipython3",
   "version": "3.7.15"
  },
  "orig_nbformat": 4,
  "vscode": {
   "interpreter": {
    "hash": "dc97a96f317a709ae2c462a7d0437fc605198aec43f9a7dadb54e6d81820938d"
   }
  }
 },
 "nbformat": 4,
 "nbformat_minor": 2
}
