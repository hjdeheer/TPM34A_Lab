{
 "cells": [
  {
   "cell_type": "markdown",
   "metadata": {},
   "source": [
    "# TPM034A Machine Learning for socio-technical systems \n",
    "## `Assignment 03: Understanding primary school performance`\n",
    "\n",
    "**Delft University of Technology**<br>\n",
    "**Q2 2022**<br>\n",
    "**Instructor:** Sander van Cranenburgh <br>\n",
    "**TAs:**  Francisco Garrido Valenzuela & Lucas Spierenburg <br>\n"
   ]
  },
  {
   "cell_type": "markdown",
   "metadata": {},
   "source": [
    "## `Instructions`\n",
    "\n",
    "**Assignments aim to:**<br>\n",
    "* Examine your understanding of the key concepts and techniques.\n",
    "* Examine your the applied ML skills.\n",
    "\n",
    "**Assignments:**<br>\n",
    "* Are graded and must be submitted (see the submission instruction below). "
   ]
  },
  {
   "cell_type": "markdown",
   "metadata": {},
   "source": [
    "# `Application: Primary school performance` <br>\n",
    "\n",
    "### **Introduction**\n",
    "\n",
    "In this lab session you will use ML to predict which primary schools perform well and which do not. The quality of primary school is deemed to impact the children's future employment outcomes, especially for students from lower-income families (see [reference](https://www.emerald.com/insight/content/doi/10.1016/S0147-9121(01)20039-9/full/html)). Therefore, **the ministry of education** expects all schools to meet certain performance criteria.<br>\n",
    "\n",
    "**Measuring school performance** is notoriously difficult. In lab session 3, you have developed ML models to predict the share of students adviced to go to higher education (HAVO, VWO). However, it would be **naive** to equate such an indicator to school performance. This would ignore self-selection effects. For instance, wealthier families tend to live together in wealthy neighbourhood. Moreover, wealthier families may be able to afford extra education (e.g. saturday morning math classes) which less well-off families are not able to. As a result, the share of students adviced to go to higher education may be higher in wealthier neigbourhoods not because of the better school, but because of opportunities to have extra education. School advices thus do not necessarily reflect the performance of schools. <br>\n",
    "\n",
    "Nonetheless, it is evident that - all else being equal - a good performing school has a larger share of students leaving with advice for higher education than a bad performing school. In other words, based on behavioural intuition (and theory) we can expect school performance to impact on the share of school leaver with an advice for higher education. <br>\n",
    "\n",
    "School performance is latent; we do not measure it directly. But, using the models developed in lab session 3 we can predict the **expected** share of school leavers with an advice for higher education. We can compare this expectation with the observed share. The difference between the two may, at least partially, be explained by the school performance. In other words, if the expected share is much higher than the observed share, the school might not perform well. The figure below shows this conceptual model.<br>\n",
    "![conceptual_model](data/conceptual_model.jpg)<br>\n",
    "\n",
    "\n",
    "Despite the limited direct data on school performance, the ministry of education would like to get your advice on the following two points:\n",
    "\n",
    "1. The ministry of education has the capacity to do full-fledged assessments of just 10 schools. Can you provide a list of 10 schools to assess with priority?\n",
    "1. Schools receive extra funding for each student with a non-native Dutch language, so-called NOAT2 students. The extra funding should enable schools to allocate more resources to the teaching NOAT2 students, while not leaving other students (called NOAT1) worse off. In other words, the extra funding should mitigate the impact from NOAT2 students on the share of school leavers with an advice for higher education. The ministry would like to know whether the current funding is sufficient to achieve this goal. \n",
    "\n",
    "\n",
    "#### **Data**\n",
    "For this assignment you have access to two data sets:\n",
    "* The school advice data set of lab session 3 [link](data/school_data.csv). Similar as in lab session 3 the buurt features are expressed as shares of the buurt population (for example, the number of women in the buurt [count] is converted into the share of women in the buurt [%]).\n",
    "* NOAT data [link](data/NOAT.csv) <br>. This data provide the number of pupils that are Dutch native speakers (NOAT1_STUDENTS), and the number of pupils that are non native Dutch speakers (NOAT2_STUDENTS).\n",
    "\n",
    "### **Tasks and grading**\n",
    "\n",
    "1.  **Load, merge, and clean data** [1 pnt]\n",
    "    1. Load the school data and the NOAT data.\n",
    "    1. Compute the share of NOAT1 students and the share of NOAT2 students in each school.\n",
    "    1. Merge the computed shares of NOAT1 and NOAT2 students in the school data. (Note that the NOAT data does not exist for some school in the school data, do **NOT** drop observations for these schools, and replace nan values by 0.).\n",
    "1. **Prepare the data** [1 pnt]\n",
    "    1. Encode categorical variables ('DENOMINATION' and 'SPECIES_PO').\n",
    "    1. Select the 30 most relevant variables for prediction. (hint: use those features that most strongly correlate with the target: SHARE_HIGH).\n",
    "    1. Scale the data using sklearn's StandardScaler.\n",
    "    1. Split the data into a train and a test set.\n",
    "1. **Train multiple models to predict the share of students adviced to go to higher education** [4 pnt]\n",
    "    1. Random forest: print the performance of the random forest, visualise the importance of each feature on a barplot.\n",
    "    1. MLP: perform the hyperparameter tuning, print the performance of the MLP\n",
    "    1. Gradient boosting: print the performance of the gradient boosting regression\n",
    "    1. Ensemble model: Create 3 ensemble models from the 3 models (print the performance of each ensemble model):\n",
    "    - ensemble model 1: Random Forest, MLP\n",
    "    - ensemble model 2: Random Forest, GBR\n",
    "    - ensemble model 3: MLP, GBR\n",
    "1. **Substantive results** [3 pnt]\n",
    "    1. Predict the expected share of school leaver with an advice for higher eduction using the model with the best generalisation performance. \n",
    "    1. Compute the difference between the expected SHARE_HIGH and the actual SHARE_HIGH. Which 10 schools would you recommend the ministry of education to assess in-depth with priority?\n",
    "    1. Reflect on the meaningfulness and limitations of your analysis.\n",
    "1. **Extra funding for NOAT2 students** [1 pnt]\n",
    "    1. Explain why the question of the ministry regarding the adequacy of the current funding for NOAT2 **cannot** be answered using ML (or at least not the ML taught in this course), and the provided data. <br>\n",
    "\n",
    "\n",
    "<br>\n",
    "\n",
    "### `Learning objective`\n",
    "This assignment provides less structure (i.e. concrete descriptions of tasks we expect you to do) than the previous ones. This is deliberate. By this time, you have more experience. The learning objective is that you are able to reasonably independently apply ML in the context of a socio-technical environment. \n",
    "\n",
    "\n",
    "### **Submission**\n",
    "- The deadline for this assignment is **Wed, 07 December 2022** \n",
    "- Use **Python 3.7 or above**\n",
    "- You have to submit your work in zip file with the ipynb **(fully executed)** in Brightspace"
   ]
  },
  {
   "cell_type": "markdown",
   "metadata": {},
   "source": [
    "### `Workspace set-up`\n",
    "**Option 1: Google Colab**<br>\n",
    "Uncomment the following cells code lines if you are running this notebook on Colab"
   ]
  },
  {
   "cell_type": "code",
   "execution_count": null,
   "metadata": {},
   "outputs": [],
   "source": [
    "#!git clone https://github.com/TPM34A/Q2_2022\n",
    "#!pip install -r Q2_2022/requirements_colab.txt\n",
    "#!mv \"/content/Q2_2022/Assignments/assignment_03/data\" /content/data"
   ]
  },
  {
   "cell_type": "markdown",
   "metadata": {},
   "source": [
    "**Option 2: Local environment**<br>\n",
    "Uncomment the following cell if you are running this notebook on your local environment. This will install all dependencies on your Python version."
   ]
  },
  {
   "cell_type": "code",
   "execution_count": null,
   "metadata": {},
   "outputs": [],
   "source": [
    "#!pip install -r requirements.txt"
   ]
  },
  {
   "cell_type": "code",
   "execution_count": null,
   "metadata": {},
   "outputs": [],
   "source": [
    "# Import required Python packages and modules\n",
    "import os\n",
    "import pandas as pd\n",
    "import geopandas as gpd\n",
    "import numpy as np\n",
    "import matplotlib.pyplot as plt\n",
    "import seaborn as sns\n",
    "\n",
    "from pathlib import Path\n",
    "from os import getcwd\n",
    "from sklearn.model_selection import train_test_split, GridSearchCV\n",
    "from sklearn.ensemble import RandomForestRegressor, VotingRegressor, GradientBoostingRegressor\n",
    "from sklearn.neural_network import MLPRegressor\n",
    "from sklearn.metrics import mean_squared_error, r2_score, mean_absolute_error, make_scorer,log_loss\n",
    "from sklearn.preprocessing import StandardScaler\n",
    "import statsmodels.api as sm\n",
    "\n",
    "# Setting\n",
    "pd.set_option('display.max_columns', None)"
   ]
  },
  {
   "cell_type": "markdown",
   "metadata": {},
   "source": [
    "### **1. Load, merge, and clean data**\n",
    "#### 1.1 **Load** the school and the NOAT data."
   ]
  },
  {
   "cell_type": "code",
   "execution_count": null,
   "metadata": {},
   "outputs": [],
   "source": []
  },
  {
   "cell_type": "markdown",
   "metadata": {},
   "source": [
    "#### 1.2 Compute the share of NOAT1 students and the share of NOAT2 students in each school."
   ]
  },
  {
   "cell_type": "code",
   "execution_count": null,
   "metadata": {},
   "outputs": [],
   "source": []
  },
  {
   "cell_type": "markdown",
   "metadata": {},
   "source": [
    "#### 1.3 Add the share of NOAT1 students and the share of NOAT2 students to the school data. (The NOAT data does not exist for some school in the school data, do **NOT** drop observations for these schools, and replace na values by 0.)"
   ]
  },
  {
   "cell_type": "code",
   "execution_count": null,
   "metadata": {},
   "outputs": [],
   "source": []
  },
  {
   "cell_type": "markdown",
   "metadata": {},
   "source": [
    "### **2. Prepare the data**\n",
    "#### 2.1 Encode categorical features ('DENOMINATION' and 'SPECIES_PO')."
   ]
  },
  {
   "cell_type": "code",
   "execution_count": null,
   "metadata": {},
   "outputs": [],
   "source": []
  },
  {
   "cell_type": "markdown",
   "metadata": {},
   "source": [
    "#### 2.2 Select the 30 most relevant features for prediction. (hint: use the variables correlating the most with the target)"
   ]
  },
  {
   "cell_type": "code",
   "execution_count": null,
   "metadata": {},
   "outputs": [],
   "source": []
  },
  {
   "cell_type": "markdown",
   "metadata": {},
   "source": [
    "Now we can create the train and test data sets, which we will use to train our ML models."
   ]
  },
  {
   "cell_type": "markdown",
   "metadata": {},
   "source": [
    "#### 2.3 Scale the data using sklearn's StandardScaler"
   ]
  },
  {
   "cell_type": "code",
   "execution_count": null,
   "metadata": {},
   "outputs": [],
   "source": []
  },
  {
   "cell_type": "markdown",
   "metadata": {},
   "source": [
    "#### 2.4 Split the sample into a train and a test sets."
   ]
  },
  {
   "cell_type": "code",
   "execution_count": null,
   "metadata": {},
   "outputs": [],
   "source": []
  },
  {
   "cell_type": "markdown",
   "metadata": {},
   "source": [
    "### **3. Training machine learning models**<br>"
   ]
  },
  {
   "cell_type": "markdown",
   "metadata": {},
   "source": [
    "To compare different models, we provide you with a custom evaluation function that allows us to swiftly report the following stats for the train and test data:\n",
    "* mean square error\n",
    "* mean absolute error\n",
    "* R2"
   ]
  },
  {
   "cell_type": "code",
   "execution_count": null,
   "metadata": {},
   "outputs": [],
   "source": [
    "def eval_regression_perf(model, X_train, X_test, Y_train, Y_test):\n",
    "    \n",
    "    # Make prediction with the trained model\n",
    "    Y_pred_train = model.predict(X_train)\n",
    "    Y_pred_test = model.predict(X_test)\n",
    "\n",
    "    # Create a function that computes the MSE, MAE, and R2\n",
    "    def perfs(Y,Y_pred):\n",
    "        mse = mean_squared_error(Y,Y_pred)\n",
    "        mae = mean_absolute_error(Y,Y_pred)\n",
    "        R2 = r2_score(Y,Y_pred)\n",
    "        return mse,mae,R2\n",
    "\n",
    "    # Apply the perfs function to the train and test data sets\n",
    "    mse_train, mae_train, r2_train = perfs(Y_train,Y_pred_train)\n",
    "    mse_test,  mae_test , r2_test  = perfs(Y_test,Y_pred_test)\n",
    "        \n",
    "    # Print results\n",
    "    print('Performance')\n",
    "    print(f'Mean Squared  Error Train | Test: \\t{mse_train:>7.4f}\\t|  {mse_test:>7.4f}')\n",
    "    print(f'Mean Absolute Error Train | Test: \\t{mae_train:>7.4f}\\t|  {mae_test:>7.4f}')\n",
    "    print(f'R2                  Train | Test: \\t{ r2_train:>7.4f}\\t|  {r2_test:>7.4f}\\n')"
   ]
  },
  {
   "cell_type": "markdown",
   "metadata": {},
   "source": [
    "#### 3.1 Random forest:\n",
    "- Set the number of trees to 250\n",
    "-  Use the following hyperparameters: \n",
    "    - max_depth = 9\n",
    "    - max_features = 0.5\n",
    "    - max_leaf_nodes = 30\n",
    "    - min_samples_leaf = 50\n",
    "- Print the performance of the random forest\n",
    "- Visualise the importance of each feature on a barplot."
   ]
  },
  {
   "cell_type": "code",
   "execution_count": null,
   "metadata": {},
   "outputs": [],
   "source": []
  },
  {
   "cell_type": "markdown",
   "metadata": {},
   "source": [
    "#### 3.2 MLP\n",
    "- Set the batch size to 250, and max_iter to 2000\n",
    "- Perform a grid search on the following hyperparameters: \n",
    "    - hidden_layer_sizes, values: (20,20),(30,30),(25,25)\n",
    "    - alpha, values: 5,1,0.1\n",
    "    - learning_rate_init: 0.01,0.001,0.0001\n",
    "- Perform the MLP regression with the tuned hyperparameters\n",
    "- Print the performance of the MLP"
   ]
  },
  {
   "cell_type": "code",
   "execution_count": null,
   "metadata": {},
   "outputs": [],
   "source": []
  },
  {
   "cell_type": "markdown",
   "metadata": {},
   "source": [
    "#### 3.3 Gradient boosting\n",
    "- Use the following hyperparameters:\n",
    "    - max_depth = 6\n",
    "    - max_features = 0.5\n",
    "    - max_leaf_nodes = 30\n",
    "    - min_samples_leaf = 50\n",
    "    - learning_rate = 0.003\n",
    "- Print the performance of the Gradient boosting regression"
   ]
  },
  {
   "cell_type": "code",
   "execution_count": null,
   "metadata": {},
   "outputs": [],
   "source": []
  },
  {
   "cell_type": "markdown",
   "metadata": {},
   "source": [
    "#### 3.4 Ensemble model\n",
    "- Create 3 ensemble models from the 3 models with the tuned hyperparameters for each model\n",
    "- model 1: Random forest, MLP\n",
    "- model 2: Random forest, GBR\n",
    "- model 3: MLP, GBR<br>\n",
    "\n",
    "Print the performance of each ensemble model"
   ]
  },
  {
   "cell_type": "code",
   "execution_count": null,
   "metadata": {},
   "outputs": [],
   "source": []
  },
  {
   "cell_type": "markdown",
   "metadata": {},
   "source": [
    "### **4. Substantive results**"
   ]
  },
  {
   "cell_type": "markdown",
   "metadata": {},
   "source": [
    "#### 4.1 Predict the expected share of school leaver with an advice for higher eduction using the model with the best generalisation performance."
   ]
  },
  {
   "cell_type": "code",
   "execution_count": null,
   "metadata": {},
   "outputs": [],
   "source": []
  },
  {
   "cell_type": "markdown",
   "metadata": {},
   "source": [
    "#### 4.2 Compute the difference between the expected SHARE_HIGH and the actual SHARE_HIGH. Which 10 schools would you recommend the ministry of education to assess in-depth with priority?"
   ]
  },
  {
   "cell_type": "code",
   "execution_count": null,
   "metadata": {},
   "outputs": [],
   "source": []
  },
  {
   "cell_type": "markdown",
   "metadata": {},
   "source": [
    "#### 4.3 Reflect on the meaningfulness and limitations of your analysis"
   ]
  },
  {
   "cell_type": "code",
   "execution_count": null,
   "metadata": {},
   "outputs": [],
   "source": []
  },
  {
   "cell_type": "markdown",
   "metadata": {},
   "source": [
    "### 5  **Extra funding for NOAT2 students**"
   ]
  },
  {
   "cell_type": "markdown",
   "metadata": {},
   "source": [
    "#### 5.1 Explain why the question of the ministry regarding the adequacy of the current funding for NOAT2 **cannot** be answered using ML (or at least not the ML taught in this course), and the provided data. <br>"
   ]
  },
  {
   "cell_type": "code",
   "execution_count": null,
   "metadata": {},
   "outputs": [],
   "source": []
  }
 ],
 "metadata": {
  "kernelspec": {
   "display_name": "Python 3.7.15 64-bit ('tpm34a')",
   "language": "python",
   "name": "python3"
  },
  "language_info": {
   "codemirror_mode": {
    "name": "ipython",
    "version": 3
   },
   "file_extension": ".py",
   "mimetype": "text/x-python",
   "name": "python",
   "nbconvert_exporter": "python",
   "pygments_lexer": "ipython3",
   "version": "3.7.15"
  },
  "orig_nbformat": 4,
  "vscode": {
   "interpreter": {
    "hash": "dc97a96f317a709ae2c462a7d0437fc605198aec43f9a7dadb54e6d81820938d"
   }
  }
 },
 "nbformat": 4,
 "nbformat_minor": 2
}
